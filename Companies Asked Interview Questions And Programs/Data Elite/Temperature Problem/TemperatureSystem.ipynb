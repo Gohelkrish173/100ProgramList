{
  "nbformat": 4,
  "nbformat_minor": 0,
  "metadata": {
    "colab": {
      "provenance": []
    },
    "kernelspec": {
      "name": "python3",
      "display_name": "Python 3"
    },
    "language_info": {
      "name": "python"
    }
  },
  "cells": [
    {
      "cell_type": "code",
      "execution_count": 86,
      "metadata": {
        "id": "82bEgk7_kAj1"
      },
      "outputs": [],
      "source": [
        "import pandas as pd"
      ]
    },
    {
      "cell_type": "code",
      "source": [
        "data = pd.read_csv(\"./tempdata.csv\")"
      ],
      "metadata": {
        "id": "jCAb0HBomrwc"
      },
      "execution_count": 87,
      "outputs": []
    },
    {
      "cell_type": "code",
      "source": [
        "print(data)"
      ],
      "metadata": {
        "colab": {
          "base_uri": "https://localhost:8080/"
        },
        "id": "CzzP5PTTnrFs",
        "outputId": "7e84ae41-bf55-444a-aa5d-a1d6e3f00565"
      },
      "execution_count": 88,
      "outputs": [
        {
          "output_type": "stream",
          "name": "stdout",
          "text": [
            "              timestamp  temperature\n",
            "0   2025-07-20T08:00:00         41.2\n",
            "1   2025-07-20T11:00:00         40.5\n",
            "2   2025-07-20T13:00:00         41.8\n",
            "3   2025-07-20T16:00:00         40.1\n",
            "4   2025-07-21T07:00:00         29.7\n",
            "5   2025-07-21T10:00:00         31.4\n",
            "6   2025-07-21T14:00:00         33.2\n",
            "7   2025-07-22T09:00:00         40.9\n",
            "8   2025-07-22T12:00:00         42.1\n",
            "9   2025-07-22T15:00:00         41.6\n",
            "10  2025-07-22T18:00:00         40.3\n",
            "11  2025-07-23T08:00:00         30.6\n",
            "12  2025-07-23T11:00:00         32.7\n",
            "13  2025-07-23T13:00:00         33.5\n",
            "14  2025-07-24T07:00:00         41.4\n",
            "15  2025-07-24T09:00:00         42.3\n",
            "16  2025-07-24T12:00:00         40.2\n",
            "17  2025-07-24T15:00:00         41.1\n"
          ]
        }
      ]
    },
    {
      "cell_type": "markdown",
      "source": [],
      "metadata": {
        "id": "wQvJPcPvp_V0"
      }
    },
    {
      "cell_type": "code",
      "source": [
        "from datetime import datetime\n",
        "Date = str(data['timestamp'])\n",
        "\n",
        "data['timestamp'] = [datetime.fromisoformat(x).date() for x in data['timestamp']]\n",
        "\n",
        "print(data['timestamp'])"
      ],
      "metadata": {
        "colab": {
          "base_uri": "https://localhost:8080/"
        },
        "id": "vnA-sbm7nuMc",
        "outputId": "7a835c30-82fa-416d-acae-80f948c8cd91"
      },
      "execution_count": 89,
      "outputs": [
        {
          "output_type": "stream",
          "name": "stdout",
          "text": [
            "0     2025-07-20\n",
            "1     2025-07-20\n",
            "2     2025-07-20\n",
            "3     2025-07-20\n",
            "4     2025-07-21\n",
            "5     2025-07-21\n",
            "6     2025-07-21\n",
            "7     2025-07-22\n",
            "8     2025-07-22\n",
            "9     2025-07-22\n",
            "10    2025-07-22\n",
            "11    2025-07-23\n",
            "12    2025-07-23\n",
            "13    2025-07-23\n",
            "14    2025-07-24\n",
            "15    2025-07-24\n",
            "16    2025-07-24\n",
            "17    2025-07-24\n",
            "Name: timestamp, dtype: object\n"
          ]
        }
      ]
    },
    {
      "cell_type": "code",
      "source": [
        "data2 = data.groupby('timestamp')['temperature'].apply(list)\n",
        "data3 = data['timestamp'].unique()\n",
        "print(data2,data3)"
      ],
      "metadata": {
        "id": "cWVtT9HVufhl",
        "colab": {
          "base_uri": "https://localhost:8080/"
        },
        "outputId": "1d190dfd-4b31-4acc-d1ce-2aff02ff6c18"
      },
      "execution_count": 90,
      "outputs": [
        {
          "output_type": "stream",
          "name": "stdout",
          "text": [
            "timestamp\n",
            "2025-07-20    [41.2, 40.5, 41.8, 40.1]\n",
            "2025-07-21          [29.7, 31.4, 33.2]\n",
            "2025-07-22    [40.9, 42.1, 41.6, 40.3]\n",
            "2025-07-23          [30.6, 32.7, 33.5]\n",
            "2025-07-24    [41.4, 42.3, 40.2, 41.1]\n",
            "Name: temperature, dtype: object [datetime.date(2025, 7, 20) datetime.date(2025, 7, 21)\n",
            " datetime.date(2025, 7, 22) datetime.date(2025, 7, 23)\n",
            " datetime.date(2025, 7, 24)]\n"
          ]
        }
      ]
    },
    {
      "cell_type": "code",
      "source": [
        "Ans = {\n",
        "    \"Date\" : [],\n",
        "    \"min\" : [],\n",
        "    \"max\" : [],\n",
        "    \"avg\" : [],\n",
        "    \"Risk\" : []\n",
        "}"
      ],
      "metadata": {
        "id": "DujRDRGwsI5S"
      },
      "execution_count": 91,
      "outputs": []
    },
    {
      "cell_type": "code",
      "source": [
        "isTruble = 'N0'\n",
        "sum = 0\n",
        "avg = 0\n",
        "index = 0\n",
        "\n",
        "for x in data2:\n",
        "  for y in x:\n",
        "    sum += y\n",
        "    if y > 40:\n",
        "      isTruble = 'Yes'\n",
        "  avg = sum / len(x)\n",
        "\n",
        "  Ans['Date'].append(data3[index])\n",
        "  Ans['min'].append(min(x))\n",
        "  Ans['max'].append(max(x))\n",
        "  Ans['avg'].append(round(avg,2))\n",
        "  Ans['Risk'].append(isTruble)\n",
        "\n",
        "  isTruble ='NO'\n",
        "  sum = 0\n",
        "  index = index + 1"
      ],
      "metadata": {
        "id": "o6Ny75BZvLhG"
      },
      "execution_count": 92,
      "outputs": []
    },
    {
      "cell_type": "code",
      "source": [
        "df = pd.DataFrame(Ans)\n",
        "print(df)"
      ],
      "metadata": {
        "colab": {
          "base_uri": "https://localhost:8080/"
        },
        "id": "3qGLyzNKruY6",
        "outputId": "19f592cc-e1da-4a07-a8c2-814a2f9257dc"
      },
      "execution_count": 93,
      "outputs": [
        {
          "output_type": "stream",
          "name": "stdout",
          "text": [
            "         Date   min   max    avg Risk\n",
            "0  2025-07-20  40.1  41.8  40.90  Yes\n",
            "1  2025-07-21  29.7  33.2  31.43   NO\n",
            "2  2025-07-22  40.3  42.1  41.22  Yes\n",
            "3  2025-07-23  30.6  33.5  32.27   NO\n",
            "4  2025-07-24  40.2  42.3  41.25  Yes\n"
          ]
        }
      ]
    },
    {
      "cell_type": "code",
      "source": [
        "# with open('Temperature_Analysis.csv', 'w', newline='') as csvfile:\n",
        "#     fieldnames = ['Date', 'min', 'max', 'avg','Risk']\n",
        "#     writer = csv.DictWriter(csvfile, fieldnames=fieldnames)\n",
        "#     writer.writeheader()\n",
        "#     writer.writerows(df)\n",
        "\n",
        "df.to_csv(\"Temperature_Analysis.csv\",index=False)\n",
        "\n",
        "print(\"Temperature Analysis File should be created successfully.\")"
      ],
      "metadata": {
        "colab": {
          "base_uri": "https://localhost:8080/"
        },
        "id": "S5tB3Sr7s279",
        "outputId": "8972b449-5cfb-4503-ff46-edbbc3f76d29"
      },
      "execution_count": 96,
      "outputs": [
        {
          "output_type": "stream",
          "name": "stdout",
          "text": [
            "Temperature Analysis File should be created successfully.\n"
          ]
        }
      ]
    },
    {
      "cell_type": "code",
      "source": [
        "from google.colab import drive\n",
        "drive.mount('/content/drive')"
      ],
      "metadata": {
        "colab": {
          "base_uri": "https://localhost:8080/"
        },
        "id": "WXyPIFmVu0hl",
        "outputId": "24acaf50-e947-4c9f-8ca3-03c018a256ac"
      },
      "execution_count": 97,
      "outputs": [
        {
          "output_type": "stream",
          "name": "stdout",
          "text": [
            "Drive already mounted at /content/drive; to attempt to forcibly remount, call drive.mount(\"/content/drive\", force_remount=True).\n"
          ]
        }
      ]
    },
    {
      "cell_type": "markdown",
      "source": [
        "\n",
        "\n"
      ],
      "metadata": {
        "id": "jsAFWLz7lolz"
      }
    }
  ]
}