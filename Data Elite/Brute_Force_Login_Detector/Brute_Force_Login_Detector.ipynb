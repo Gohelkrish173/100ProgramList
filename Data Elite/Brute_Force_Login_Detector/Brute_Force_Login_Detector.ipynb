{
  "nbformat": 4,
  "nbformat_minor": 0,
  "metadata": {
    "colab": {
      "provenance": []
    },
    "kernelspec": {
      "name": "python3",
      "display_name": "Python 3"
    },
    "language_info": {
      "name": "python"
    }
  },
  "cells": [
    {
      "cell_type": "code",
      "execution_count": 220,
      "metadata": {
        "id": "uCVwgLjO1mGd"
      },
      "outputs": [],
      "source": [
        "import json as j\n",
        "import pandas as pd\n",
        "from datetime import datetime ,timedelta\n",
        "import json"
      ]
    },
    {
      "cell_type": "code",
      "source": [
        "f = open('auth_logs.json')\n",
        "\n",
        "data  = j.load(f)\n",
        "\n",
        "for i in data:\n",
        "    print(i)"
      ],
      "metadata": {
        "colab": {
          "base_uri": "https://localhost:8080/"
        },
        "id": "zQ2vbdSh4Y5d",
        "outputId": "81191421-f1ef-4798-beb1-6d92713c5fd4"
      },
      "execution_count": 221,
      "outputs": [
        {
          "output_type": "stream",
          "name": "stdout",
          "text": [
            "{'timestamp': '2025-07-25T10:01:35', 'username': 'david', 'ip': '10.9.1.1', 'status': 'SUCCESS'}\n",
            "{'timestamp': '2025-07-25T10:01:35', 'username': 'carol', 'ip': '172.154.1.1', 'status': 'FAIL'}\n",
            "{'timestamp': '2025-07-25T10:24:30', 'username': 'bob', 'ip': '10.0.0.1', 'status': 'FAIL'}\n",
            "{'timestamp': '2025-07-25T10:01:00', 'username': 'alice', 'ip': '192.168.1.1', 'status': 'FAIL'}\n",
            "{'timestamp': '2025-07-25T10:02:30', 'username': 'alice', 'ip': '192.168.1.1', 'status': 'FAIL'}\n",
            "{'timestamp': '2025-07-25T10:23:00', 'username': 'bob', 'ip': '10.0.0.1', 'status': 'FAIL'}\n",
            "{'timestamp': '2025-07-25T10:04:30', 'username': 'alice', 'ip': '192.168.1.1', 'status': 'FAIL'}\n",
            "{'timestamp': '2025-07-25T10:00:00', 'username': 'alice', 'ip': '192.168.1.1', 'status': 'FAIL'}\n",
            "{'timestamp': '2025-07-25T10:20:45', 'username': 'carol', 'ip': '172.154.1.1', 'status': 'SUCCESS'}\n",
            "{'timestamp': '2025-07-25T10:23:30', 'username': 'bob', 'ip': '10.0.0.1', 'status': 'FAIL'}\n",
            "{'timestamp': '2025-07-25T10:03:00', 'username': 'alice', 'ip': '192.168.1.1', 'status': 'FAIL'}\n",
            "{'timestamp': '2025-07-25T10:22:30', 'username': 'bob', 'ip': '10.0.0.1', 'status': 'FAIL'}\n",
            "{'timestamp': '2025-07-25T10:04:45', 'username': 'alice', 'ip': '192.168.1.1', 'status': 'SUCCESS'}\n",
            "{'timestamp': '2025-07-25T10:22:00', 'username': 'bob', 'ip': '10.0.0.1', 'status': 'FAIL'}\n",
            "{'timestamp': '2025-07-25T10:20:00', 'username': 'bob', 'ip': '10.0.0.1', 'status': 'FAIL'}\n",
            "{'timestamp': '2025-07-25T10:02:00', 'username': 'alice', 'ip': '192.168.1.1', 'status': 'FAIL'}\n",
            "{'timestamp': '2025-07-25T10:01:45', 'username': 'carol', 'ip': '172.154.1.1', 'status': 'SUCCESS'}\n",
            "{'timestamp': '2025-07-25T10:21:00', 'username': 'bob', 'ip': '10.0.0.1', 'status': 'FAIL'}\n",
            "{'timestamp': '2025-07-25T10:25:00', 'username': 'bob', 'ip': '10.0.0.1', 'status': 'FAIL'}\n",
            "{'timestamp': '2025-07-25T10:23:45', 'username': 'carol', 'ip': '172.154.1.1', 'status': 'SUCCESS'}\n",
            "{'timestamp': '2025-07-25T10:00:30', 'username': 'alice', 'ip': '192.168.1.1', 'status': 'FAIL'}\n",
            "{'timestamp': '2025-07-25T10:23:25', 'username': 'carol', 'ip': '172.154.1.1', 'status': 'FAIL'}\n",
            "{'timestamp': '2025-07-25T10:04:40', 'username': 'alice', 'ip': '192.168.1.1', 'status': 'FAIL'}\n",
            "{'timestamp': '2025-07-25T10:40:00', 'username': 'bob', 'ip': '10.0.0.1', 'status': 'SUCCESS'}\n",
            "{'timestamp': '2025-07-25T10:04:00', 'username': 'alice', 'ip': '192.168.1.1', 'status': 'FAIL'}\n",
            "{'timestamp': '2025-07-25T10:03:30', 'username': 'alice', 'ip': '192.168.1.1', 'status': 'FAIL'}\n",
            "{'timestamp': '2025-07-25T10:24:00', 'username': 'bob', 'ip': '10.0.0.1', 'status': 'FAIL'}\n",
            "{'timestamp': '2025-07-25T10:20:30', 'username': 'bob', 'ip': '10.0.0.1', 'status': 'FAIL'}\n",
            "{'timestamp': '2025-07-25T10:21:30', 'username': 'bob', 'ip': '10.0.0.1', 'status': 'FAIL'}\n",
            "{'timestamp': '2025-07-25T10:01:30', 'username': 'alice', 'ip': '192.168.1.1', 'status': 'FAIL'}\n"
          ]
        }
      ]
    },
    {
      "cell_type": "code",
      "source": [
        "temp = {\n",
        "    'timestamp' : [],\n",
        "    'username' : [],\n",
        "    'ip' : [],\n",
        "    'status' : []\n",
        "}"
      ],
      "metadata": {
        "id": "02LxYOjv6Js3"
      },
      "execution_count": 222,
      "outputs": []
    },
    {
      "cell_type": "code",
      "source": [
        "for x in data:\n",
        "  temp['timestamp'].append(datetime.fromisoformat(x['timestamp']))\n",
        "  temp['username'].append(x['username'])\n",
        "  temp['ip'].append(x['ip'])\n",
        "  temp['status'].append(x['status'])"
      ],
      "metadata": {
        "id": "KDz20rnZ6hST"
      },
      "execution_count": 223,
      "outputs": []
    },
    {
      "cell_type": "code",
      "source": [
        "Data = pd.DataFrame(temp)"
      ],
      "metadata": {
        "id": "C4vOT9KN7SrX"
      },
      "execution_count": 224,
      "outputs": []
    },
    {
      "cell_type": "code",
      "source": [
        "print(Data)"
      ],
      "metadata": {
        "colab": {
          "base_uri": "https://localhost:8080/"
        },
        "id": "8tRP6k5l5ek4",
        "outputId": "4bba7067-6017-4e86-c2dd-9e0af0727655"
      },
      "execution_count": 225,
      "outputs": [
        {
          "output_type": "stream",
          "name": "stdout",
          "text": [
            "             timestamp username           ip   status\n",
            "0  2025-07-25 10:01:35    david     10.9.1.1  SUCCESS\n",
            "1  2025-07-25 10:01:35    carol  172.154.1.1     FAIL\n",
            "2  2025-07-25 10:24:30      bob     10.0.0.1     FAIL\n",
            "3  2025-07-25 10:01:00    alice  192.168.1.1     FAIL\n",
            "4  2025-07-25 10:02:30    alice  192.168.1.1     FAIL\n",
            "5  2025-07-25 10:23:00      bob     10.0.0.1     FAIL\n",
            "6  2025-07-25 10:04:30    alice  192.168.1.1     FAIL\n",
            "7  2025-07-25 10:00:00    alice  192.168.1.1     FAIL\n",
            "8  2025-07-25 10:20:45    carol  172.154.1.1  SUCCESS\n",
            "9  2025-07-25 10:23:30      bob     10.0.0.1     FAIL\n",
            "10 2025-07-25 10:03:00    alice  192.168.1.1     FAIL\n",
            "11 2025-07-25 10:22:30      bob     10.0.0.1     FAIL\n",
            "12 2025-07-25 10:04:45    alice  192.168.1.1  SUCCESS\n",
            "13 2025-07-25 10:22:00      bob     10.0.0.1     FAIL\n",
            "14 2025-07-25 10:20:00      bob     10.0.0.1     FAIL\n",
            "15 2025-07-25 10:02:00    alice  192.168.1.1     FAIL\n",
            "16 2025-07-25 10:01:45    carol  172.154.1.1  SUCCESS\n",
            "17 2025-07-25 10:21:00      bob     10.0.0.1     FAIL\n",
            "18 2025-07-25 10:25:00      bob     10.0.0.1     FAIL\n",
            "19 2025-07-25 10:23:45    carol  172.154.1.1  SUCCESS\n",
            "20 2025-07-25 10:00:30    alice  192.168.1.1     FAIL\n",
            "21 2025-07-25 10:23:25    carol  172.154.1.1     FAIL\n",
            "22 2025-07-25 10:04:40    alice  192.168.1.1     FAIL\n",
            "23 2025-07-25 10:40:00      bob     10.0.0.1  SUCCESS\n",
            "24 2025-07-25 10:04:00    alice  192.168.1.1     FAIL\n",
            "25 2025-07-25 10:03:30    alice  192.168.1.1     FAIL\n",
            "26 2025-07-25 10:24:00      bob     10.0.0.1     FAIL\n",
            "27 2025-07-25 10:20:30      bob     10.0.0.1     FAIL\n",
            "28 2025-07-25 10:21:30      bob     10.0.0.1     FAIL\n",
            "29 2025-07-25 10:01:30    alice  192.168.1.1     FAIL\n"
          ]
        }
      ]
    },
    {
      "cell_type": "code",
      "source": [
        "Data = Data.sort_values(['ip','timestamp'])"
      ],
      "metadata": {
        "id": "fM2K2Ymf9vdL"
      },
      "execution_count": 226,
      "outputs": []
    },
    {
      "cell_type": "code",
      "source": [
        "print(Data)"
      ],
      "metadata": {
        "colab": {
          "base_uri": "https://localhost:8080/"
        },
        "id": "LgdonT6o-LWy",
        "outputId": "e9a3f596-1bcd-49d8-e503-4a1c1748e98a"
      },
      "execution_count": 227,
      "outputs": [
        {
          "output_type": "stream",
          "name": "stdout",
          "text": [
            "             timestamp username           ip   status\n",
            "14 2025-07-25 10:20:00      bob     10.0.0.1     FAIL\n",
            "27 2025-07-25 10:20:30      bob     10.0.0.1     FAIL\n",
            "17 2025-07-25 10:21:00      bob     10.0.0.1     FAIL\n",
            "28 2025-07-25 10:21:30      bob     10.0.0.1     FAIL\n",
            "13 2025-07-25 10:22:00      bob     10.0.0.1     FAIL\n",
            "11 2025-07-25 10:22:30      bob     10.0.0.1     FAIL\n",
            "5  2025-07-25 10:23:00      bob     10.0.0.1     FAIL\n",
            "9  2025-07-25 10:23:30      bob     10.0.0.1     FAIL\n",
            "26 2025-07-25 10:24:00      bob     10.0.0.1     FAIL\n",
            "2  2025-07-25 10:24:30      bob     10.0.0.1     FAIL\n",
            "18 2025-07-25 10:25:00      bob     10.0.0.1     FAIL\n",
            "23 2025-07-25 10:40:00      bob     10.0.0.1  SUCCESS\n",
            "0  2025-07-25 10:01:35    david     10.9.1.1  SUCCESS\n",
            "1  2025-07-25 10:01:35    carol  172.154.1.1     FAIL\n",
            "16 2025-07-25 10:01:45    carol  172.154.1.1  SUCCESS\n",
            "8  2025-07-25 10:20:45    carol  172.154.1.1  SUCCESS\n",
            "21 2025-07-25 10:23:25    carol  172.154.1.1     FAIL\n",
            "19 2025-07-25 10:23:45    carol  172.154.1.1  SUCCESS\n",
            "7  2025-07-25 10:00:00    alice  192.168.1.1     FAIL\n",
            "20 2025-07-25 10:00:30    alice  192.168.1.1     FAIL\n",
            "3  2025-07-25 10:01:00    alice  192.168.1.1     FAIL\n",
            "29 2025-07-25 10:01:30    alice  192.168.1.1     FAIL\n",
            "15 2025-07-25 10:02:00    alice  192.168.1.1     FAIL\n",
            "4  2025-07-25 10:02:30    alice  192.168.1.1     FAIL\n",
            "10 2025-07-25 10:03:00    alice  192.168.1.1     FAIL\n",
            "25 2025-07-25 10:03:30    alice  192.168.1.1     FAIL\n",
            "24 2025-07-25 10:04:00    alice  192.168.1.1     FAIL\n",
            "6  2025-07-25 10:04:30    alice  192.168.1.1     FAIL\n",
            "22 2025-07-25 10:04:40    alice  192.168.1.1     FAIL\n",
            "12 2025-07-25 10:04:45    alice  192.168.1.1  SUCCESS\n"
          ]
        }
      ]
    },
    {
      "cell_type": "code",
      "source": [
        "dt = Data.groupby(['ip'])['status'].apply(list)"
      ],
      "metadata": {
        "id": "zfVWShhU_BDo"
      },
      "execution_count": 228,
      "outputs": []
    },
    {
      "cell_type": "code",
      "source": [
        "print(dt)"
      ],
      "metadata": {
        "colab": {
          "base_uri": "https://localhost:8080/"
        },
        "id": "ai45pO-N_XEH",
        "outputId": "e0b425a5-630b-42bc-cba8-329e9802c565"
      },
      "execution_count": 229,
      "outputs": [
        {
          "output_type": "stream",
          "name": "stdout",
          "text": [
            "ip\n",
            "10.0.0.1       [FAIL, FAIL, FAIL, FAIL, FAIL, FAIL, FAIL, FAI...\n",
            "10.9.1.1                                               [SUCCESS]\n",
            "172.154.1.1              [FAIL, SUCCESS, SUCCESS, FAIL, SUCCESS]\n",
            "192.168.1.1    [FAIL, FAIL, FAIL, FAIL, FAIL, FAIL, FAIL, FAI...\n",
            "Name: status, dtype: object\n"
          ]
        }
      ]
    },
    {
      "cell_type": "code",
      "source": [
        "usernames = Data['username'].unique()\n",
        "print(usernames)\n",
        "\n",
        "fail_count = []\n",
        "isSuccess = []\n",
        "\n",
        "for i in range(len(usernames)):\n",
        "  fail_count.append(0);\n",
        "  isSuccess.append(False)\n",
        "\n",
        "print(fail_count)"
      ],
      "metadata": {
        "colab": {
          "base_uri": "https://localhost:8080/"
        },
        "id": "uL1u3Nh0ImgJ",
        "outputId": "b8ab8e7c-f119-47ff-8bdc-63ff1e3937bf"
      },
      "execution_count": 230,
      "outputs": [
        {
          "output_type": "stream",
          "name": "stdout",
          "text": [
            "['bob' 'david' 'carol' 'alice']\n",
            "[0, 0, 0, 0]\n"
          ]
        }
      ]
    },
    {
      "cell_type": "code",
      "source": [
        "index = 0\n",
        "for i in dt:\n",
        "  for j in i:\n",
        "    if j == 'FAIL':\n",
        "      fail_count[index] = fail_count[index] + 1\n",
        "    if j == 'SUCCESS':\n",
        "      isSuccess[index] = True\n",
        "  index = index + 1\n",
        "\n",
        "print(fail_count)\n",
        "print(isSuccess)"
      ],
      "metadata": {
        "colab": {
          "base_uri": "https://localhost:8080/"
        },
        "id": "QMK0HRTaI6Rs",
        "outputId": "eecc3fec-eac0-4494-9be1-5554d7306589"
      },
      "execution_count": 231,
      "outputs": [
        {
          "output_type": "stream",
          "name": "stdout",
          "text": [
            "[11, 0, 2, 11]\n",
            "[True, True, True, True]\n"
          ]
        }
      ]
    },
    {
      "cell_type": "code",
      "source": [
        "brute_detected = []\n",
        "\n",
        "for i in fail_count:\n",
        "  if i > 10:\n",
        "    brute_detected.append(True)\n",
        "  else:\n",
        "    brute_detected.append(False)\n",
        "\n",
        "print(brute_detected)"
      ],
      "metadata": {
        "colab": {
          "base_uri": "https://localhost:8080/"
        },
        "id": "ac8cKamNMmZ-",
        "outputId": "81d4c93b-0eaf-400d-a6cd-ec5e91c5983c"
      },
      "execution_count": 232,
      "outputs": [
        {
          "output_type": "stream",
          "name": "stdout",
          "text": [
            "[True, False, False, True]\n"
          ]
        }
      ]
    },
    {
      "cell_type": "code",
      "source": [
        "Dates = []\n",
        "severity = []\n",
        "\n",
        "first_date = \"\"\n",
        "last_date = \"\"\n",
        "index = 0\n",
        "\n",
        "for x,y in zip(Data['timestamp'],Data['status']):\n",
        "  if first_date == \"\":\n",
        "    first_date = x\n",
        "    Dates.append(str(x))\n",
        "  elif y == \"SUCCESS\":\n",
        "    last_date = x\n",
        "\n",
        "  if first_date != \"\" and last_date != \"\":\n",
        "    Diff = last_date - first_date\n",
        "    if brute_detected[index] == False:\n",
        "      severity.append(False)\n",
        "    if brute_detected[index] == True and Diff <= timedelta(minutes=5):\n",
        "      severity.append('HIGH')\n",
        "    elif brute_detected[index] == True and Diff > timedelta(minutes=5):\n",
        "      severity.append('LOW')\n",
        "\n",
        "    index = index + 1\n",
        "    first_date = \"\"\n",
        "    last_date = \"\"\n",
        "\n",
        "print(Dates,severity)"
      ],
      "metadata": {
        "colab": {
          "base_uri": "https://localhost:8080/"
        },
        "id": "GlsvR8T4mRHB",
        "outputId": "1707e269-8f3c-42ca-bf7f-f1274c306f85"
      },
      "execution_count": 233,
      "outputs": [
        {
          "output_type": "stream",
          "name": "stdout",
          "text": [
            "['2025-07-25 10:20:00', '2025-07-25 10:01:35', '2025-07-25 10:20:45', '2025-07-25 10:00:00'] ['LOW', False, False, 'HIGH']\n"
          ]
        }
      ]
    },
    {
      "cell_type": "code",
      "source": [
        "Json_Ans = []"
      ],
      "metadata": {
        "id": "hBcfdSbom69o"
      },
      "execution_count": 234,
      "outputs": []
    },
    {
      "cell_type": "code",
      "source": [
        "unique_ip = Data['ip'].unique()\n",
        "\n",
        "for a,b,c,x,y,z in zip(Dates,usernames,unique_ip,fail_count,brute_detected,severity):\n",
        "  if y == True:\n",
        "    Ans = {\n",
        "      \"timestamp\" : a,\n",
        "      \"username\" : b,\n",
        "      \"ip\" : c,\n",
        "      \"failed_attempts\" : x,\n",
        "      \"alert\" : \"Brute-force detected\",\n",
        "      \"severity\" : z\n",
        "    }\n",
        "\n",
        "    Json_Ans.append(Ans)\n",
        "\n",
        "print(Json_Ans)"
      ],
      "metadata": {
        "colab": {
          "base_uri": "https://localhost:8080/"
        },
        "id": "sN_99gOO23SI",
        "outputId": "e20fddef-a115-474d-e401-1becd6610e41"
      },
      "execution_count": 235,
      "outputs": [
        {
          "output_type": "stream",
          "name": "stdout",
          "text": [
            "[{'timestamp': '2025-07-25 10:20:00', 'username': 'bob', 'ip': '10.0.0.1', 'failed_attempts': 11, 'alert': 'Brute-force detected', 'severity': 'LOW'}, {'timestamp': '2025-07-25 10:00:00', 'username': 'alice', 'ip': '192.168.1.1', 'failed_attempts': 11, 'alert': 'Brute-force detected', 'severity': 'HIGH'}]\n"
          ]
        }
      ]
    },
    {
      "cell_type": "code",
      "source": [
        "with open(\"Brute_Force_Result_JSON.json\", \"w\") as file:\n",
        "    json.dump(Json_Ans, file, indent=2)"
      ],
      "metadata": {
        "id": "fCYmhrlI7YLx"
      },
      "execution_count": 236,
      "outputs": []
    }
  ]
}